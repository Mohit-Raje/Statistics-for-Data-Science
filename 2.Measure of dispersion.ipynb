{
 "cells": [
  {
   "cell_type": "code",
   "execution_count": 1,
   "id": "bfada157-059d-4f6b-8d09-f753302ec40e",
   "metadata": {
    "tags": []
   },
   "outputs": [],
   "source": [
    "import numpy as np\n",
    "import pandas as pd"
   ]
  },
  {
   "cell_type": "code",
   "execution_count": 2,
   "id": "7d19835d-82e7-4236-9c08-a2c5bbdcf206",
   "metadata": {
    "tags": []
   },
   "outputs": [],
   "source": [
    "age=[12 , 13 , 14 , 21 , 24]"
   ]
  },
  {
   "cell_type": "code",
   "execution_count": 3,
   "id": "ed48bb26-ee0f-424c-b17c-abdc18e76067",
   "metadata": {
    "tags": []
   },
   "outputs": [],
   "source": [
    "weights=[45 , 34 , 55   ,  76 , 45 , 35 , 89 ,98 , 75 ,1000]"
   ]
  },
  {
   "cell_type": "code",
   "execution_count": 4,
   "id": "39154200-4c8d-4f6c-b32a-e9610f6e7ef6",
   "metadata": {
    "tags": []
   },
   "outputs": [],
   "source": [
    "## Variance"
   ]
  },
  {
   "cell_type": "code",
   "execution_count": 5,
   "id": "90be560f-eab2-495c-973d-13d9ceac12c7",
   "metadata": {
    "tags": []
   },
   "outputs": [
    {
     "data": {
      "text/plain": [
       "22.96"
      ]
     },
     "execution_count": 5,
     "metadata": {},
     "output_type": "execute_result"
    }
   ],
   "source": [
    "np.var(age)"
   ]
  },
  {
   "cell_type": "code",
   "execution_count": 6,
   "id": "a26ac840-9805-4e78-b411-158461b71e1c",
   "metadata": {
    "tags": []
   },
   "outputs": [
    {
     "data": {
      "text/plain": [
       "4.791659420284375"
      ]
     },
     "execution_count": 6,
     "metadata": {},
     "output_type": "execute_result"
    }
   ],
   "source": [
    "np.std(age)"
   ]
  },
  {
   "cell_type": "code",
   "execution_count": 7,
   "id": "d7c42adf-1283-4c57-982e-09706e74320f",
   "metadata": {
    "tags": []
   },
   "outputs": [
    {
     "data": {
      "text/plain": [
       "array([67, 78, 28, 23, 64])"
      ]
     },
     "execution_count": 7,
     "metadata": {},
     "output_type": "execute_result"
    }
   ],
   "source": [
    "np.random.randint(10 , 100 , 5)"
   ]
  },
  {
   "cell_type": "code",
   "execution_count": 8,
   "id": "fa92407a-7115-4205-89b7-1d585d62dd57",
   "metadata": {
    "tags": []
   },
   "outputs": [],
   "source": [
    "data=[[10 , 12 , 13 ] , [34 ,56 , 78] ,[34 , 23 , 67]]\n",
    "df=pd.DataFrame(data=data , columns='A B C'.split(sep = ' '))"
   ]
  },
  {
   "cell_type": "code",
   "execution_count": 9,
   "id": "f1b286d5-d1a0-4622-9cef-4b89b265e751",
   "metadata": {
    "tags": []
   },
   "outputs": [
    {
     "data": {
      "text/html": [
       "<div>\n",
       "<style scoped>\n",
       "    .dataframe tbody tr th:only-of-type {\n",
       "        vertical-align: middle;\n",
       "    }\n",
       "\n",
       "    .dataframe tbody tr th {\n",
       "        vertical-align: top;\n",
       "    }\n",
       "\n",
       "    .dataframe thead th {\n",
       "        text-align: right;\n",
       "    }\n",
       "</style>\n",
       "<table border=\"1\" class=\"dataframe\">\n",
       "  <thead>\n",
       "    <tr style=\"text-align: right;\">\n",
       "      <th></th>\n",
       "      <th>A</th>\n",
       "      <th>B</th>\n",
       "      <th>C</th>\n",
       "    </tr>\n",
       "  </thead>\n",
       "  <tbody>\n",
       "    <tr>\n",
       "      <th>0</th>\n",
       "      <td>10</td>\n",
       "      <td>12</td>\n",
       "      <td>13</td>\n",
       "    </tr>\n",
       "    <tr>\n",
       "      <th>1</th>\n",
       "      <td>34</td>\n",
       "      <td>56</td>\n",
       "      <td>78</td>\n",
       "    </tr>\n",
       "    <tr>\n",
       "      <th>2</th>\n",
       "      <td>34</td>\n",
       "      <td>23</td>\n",
       "      <td>67</td>\n",
       "    </tr>\n",
       "  </tbody>\n",
       "</table>\n",
       "</div>"
      ],
      "text/plain": [
       "    A   B   C\n",
       "0  10  12  13\n",
       "1  34  56  78\n",
       "2  34  23  67"
      ]
     },
     "execution_count": 9,
     "metadata": {},
     "output_type": "execute_result"
    }
   ],
   "source": [
    "df"
   ]
  },
  {
   "cell_type": "code",
   "execution_count": 10,
   "id": "98437d72-46c5-49e5-b4f5-d9358b89acfe",
   "metadata": {
    "tags": []
   },
   "outputs": [
    {
     "data": {
      "text/plain": [
       "A     192.000000\n",
       "B     524.333333\n",
       "C    1210.333333\n",
       "dtype: float64"
      ]
     },
     "execution_count": 10,
     "metadata": {},
     "output_type": "execute_result"
    }
   ],
   "source": [
    "df.var()"
   ]
  },
  {
   "cell_type": "code",
   "execution_count": 11,
   "id": "b11784ee-c888-4be1-96bf-f45bfc72d14a",
   "metadata": {
    "tags": []
   },
   "outputs": [
    {
     "data": {
      "text/plain": [
       "0      2.333333\n",
       "1    484.000000\n",
       "2    524.333333\n",
       "dtype: float64"
      ]
     },
     "execution_count": 11,
     "metadata": {},
     "output_type": "execute_result"
    }
   ],
   "source": [
    "df.var(axis=1)"
   ]
  },
  {
   "cell_type": "code",
   "execution_count": null,
   "id": "7fdfda6a-c2cf-4fb2-8f83-f80b82ae2970",
   "metadata": {},
   "outputs": [],
   "source": []
  },
  {
   "cell_type": "code",
   "execution_count": null,
   "id": "14843af6-8cb6-4784-bcab-f5c9a6e77c39",
   "metadata": {},
   "outputs": [],
   "source": []
  }
 ],
 "metadata": {
  "kernelspec": {
   "display_name": "Python 3 (ipykernel)",
   "language": "python",
   "name": "python3"
  },
  "language_info": {
   "codemirror_mode": {
    "name": "ipython",
    "version": 3
   },
   "file_extension": ".py",
   "mimetype": "text/x-python",
   "name": "python",
   "nbconvert_exporter": "python",
   "pygments_lexer": "ipython3",
   "version": "3.11.2"
  }
 },
 "nbformat": 4,
 "nbformat_minor": 5
}
