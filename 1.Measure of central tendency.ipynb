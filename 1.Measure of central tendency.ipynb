{
 "cells": [
  {
   "cell_type": "markdown",
   "id": "11190289-f5a4-462a-bc0b-ccb4ca4d1e4c",
   "metadata": {},
   "source": [
    "## Measure of central tendency"
   ]
  },
  {
   "cell_type": "code",
   "execution_count": 4,
   "id": "c498c555-ac1d-47cb-839b-f0803b1f7202",
   "metadata": {
    "tags": []
   },
   "outputs": [],
   "source": [
    "import numpy as np"
   ]
  },
  {
   "cell_type": "code",
   "execution_count": 5,
   "id": "68a493df-9ac2-465c-9aeb-9b6daadc59a3",
   "metadata": {
    "tags": []
   },
   "outputs": [],
   "source": [
    "age=[12 , 13 , 14 , 21 , 24]"
   ]
  },
  {
   "cell_type": "code",
   "execution_count": 7,
   "id": "5965c935-110f-4819-8c82-851ce401d045",
   "metadata": {
    "tags": []
   },
   "outputs": [],
   "source": [
    "age_arr=np.array(age)"
   ]
  },
  {
   "cell_type": "code",
   "execution_count": 8,
   "id": "c6b371d8-49eb-4fbb-aaa4-01f99cafdb85",
   "metadata": {
    "tags": []
   },
   "outputs": [
    {
     "data": {
      "text/plain": [
       "16.8"
      ]
     },
     "execution_count": 8,
     "metadata": {},
     "output_type": "execute_result"
    }
   ],
   "source": [
    "age_arr.mean()"
   ]
  },
  {
   "cell_type": "code",
   "execution_count": 9,
   "id": "dee59890-7c4e-4c24-85bc-69523c427281",
   "metadata": {
    "tags": []
   },
   "outputs": [],
   "source": [
    "weights=[45 , 34 , 55   ,  76 , 45 , 35 , 89 ,98 , 75]"
   ]
  },
  {
   "cell_type": "code",
   "execution_count": 11,
   "id": "a6e4f9d9-3f1d-4ec8-a1db-bcc29894edcc",
   "metadata": {
    "tags": []
   },
   "outputs": [],
   "source": [
    "weight=np.array(weights)"
   ]
  },
  {
   "cell_type": "code",
   "execution_count": 13,
   "id": "cd95c2c3-4f83-43b1-a465-c7a2d9f90265",
   "metadata": {
    "tags": []
   },
   "outputs": [
    {
     "data": {
      "text/plain": [
       "61.333333333333336"
      ]
     },
     "execution_count": 13,
     "metadata": {},
     "output_type": "execute_result"
    }
   ],
   "source": [
    "weight.mean()"
   ]
  },
  {
   "cell_type": "code",
   "execution_count": 14,
   "id": "1c2f5797-9112-4b37-b12b-fe4b42c4ca97",
   "metadata": {
    "tags": []
   },
   "outputs": [],
   "source": [
    "weights=[45 , 34 , 55   ,  76 , 45 , 35 , 89 ,98 , 75 ,1000]"
   ]
  },
  {
   "cell_type": "code",
   "execution_count": 15,
   "id": "d0ac07f6-7bab-45d8-8be7-f325cf972b61",
   "metadata": {
    "tags": []
   },
   "outputs": [
    {
     "data": {
      "text/plain": [
       "155.2"
      ]
     },
     "execution_count": 15,
     "metadata": {},
     "output_type": "execute_result"
    }
   ],
   "source": [
    "np.mean(weights)"
   ]
  },
  {
   "cell_type": "code",
   "execution_count": 16,
   "id": "ec9c31a7-497d-48dd-b93b-da9ff42739ad",
   "metadata": {
    "tags": []
   },
   "outputs": [
    {
     "data": {
      "text/plain": [
       "65.0"
      ]
     },
     "execution_count": 16,
     "metadata": {},
     "output_type": "execute_result"
    }
   ],
   "source": [
    "np.median(weights)"
   ]
  },
  {
   "cell_type": "code",
   "execution_count": 17,
   "id": "3f2419d3-1f6d-4f09-8528-f6b81ec991f7",
   "metadata": {
    "tags": []
   },
   "outputs": [],
   "source": [
    "from scipy import stats"
   ]
  },
  {
   "cell_type": "code",
   "execution_count": 18,
   "id": "c8d9042f-5444-4618-8669-0fa52c0714f0",
   "metadata": {
    "tags": []
   },
   "outputs": [
    {
     "name": "stderr",
     "output_type": "stream",
     "text": [
      "C:\\Users\\Mohit\\AppData\\Local\\Temp\\ipykernel_16148\\4197893964.py:1: FutureWarning: Unlike other reduction functions (e.g. `skew`, `kurtosis`), the default behavior of `mode` typically preserves the axis it acts along. In SciPy 1.11.0, this behavior will change: the default value of `keepdims` will become False, the `axis` over which the statistic is taken will be eliminated, and the value None will no longer be accepted. Set `keepdims` to True or False to avoid this warning.\n",
      "  stats.mode(weights)\n"
     ]
    },
    {
     "data": {
      "text/plain": [
       "ModeResult(mode=array([45]), count=array([2]))"
      ]
     },
     "execution_count": 18,
     "metadata": {},
     "output_type": "execute_result"
    }
   ],
   "source": [
    "stats.mode(weights)"
   ]
  },
  {
   "cell_type": "code",
   "execution_count": null,
   "id": "1ac59613-05b6-49ea-bdd7-da155706a26c",
   "metadata": {},
   "outputs": [],
   "source": []
  }
 ],
 "metadata": {
  "kernelspec": {
   "display_name": "Python 3 (ipykernel)",
   "language": "python",
   "name": "python3"
  },
  "language_info": {
   "codemirror_mode": {
    "name": "ipython",
    "version": 3
   },
   "file_extension": ".py",
   "mimetype": "text/x-python",
   "name": "python",
   "nbconvert_exporter": "python",
   "pygments_lexer": "ipython3",
   "version": "3.11.2"
  }
 },
 "nbformat": 4,
 "nbformat_minor": 5
}
