{
 "cells": [
  {
   "cell_type": "code",
   "execution_count": 1,
   "id": "2915df5f-45e9-4ff5-91a7-b494abada9ef",
   "metadata": {
    "tags": []
   },
   "outputs": [],
   "source": [
    "import scipy.stats as stat\n",
    "import numpy as np"
   ]
  },
  {
   "cell_type": "code",
   "execution_count": 3,
   "id": "0ddfb02d-648c-4dfe-9079-b27369ecb2ad",
   "metadata": {
    "tags": []
   },
   "outputs": [],
   "source": [
    "## No. of hour student study daily in a weekly basis\n",
    "\n",
    "expected_data=[8 , 6 ,7  , 9, 6 , 9 ,7]\n",
    "observed_data=[7,  8 , 6 ,9 , 9 , 6  , 7]"
   ]
  },
  {
   "cell_type": "code",
   "execution_count": 5,
   "id": "2ba34f4c-d596-4cfd-89fe-d821f051e170",
   "metadata": {
    "tags": []
   },
   "outputs": [
    {
     "data": {
      "text/plain": [
       "52"
      ]
     },
     "execution_count": 5,
     "metadata": {},
     "output_type": "execute_result"
    }
   ],
   "source": [
    "sum(expected_data)"
   ]
  },
  {
   "cell_type": "code",
   "execution_count": 6,
   "id": "35f37319-9a7e-4ac4-9fee-46e9fd3e4a38",
   "metadata": {
    "tags": []
   },
   "outputs": [
    {
     "data": {
      "text/plain": [
       "52"
      ]
     },
     "execution_count": 6,
     "metadata": {},
     "output_type": "execute_result"
    }
   ],
   "source": [
    "sum(observed_data)"
   ]
  },
  {
   "cell_type": "code",
   "execution_count": 7,
   "id": "69b71eed-0bb9-4895-9015-fd0b8dc31045",
   "metadata": {
    "tags": []
   },
   "outputs": [],
   "source": [
    "## Chi square goodness of fit "
   ]
  },
  {
   "cell_type": "code",
   "execution_count": 8,
   "id": "b359c5d2-e5f5-40c2-aaf9-c1cf83f2e326",
   "metadata": {
    "tags": []
   },
   "outputs": [],
   "source": [
    "chisquare_test_stat , p_value = stat.chisquare(expected_data , observed_data)"
   ]
  },
  {
   "cell_type": "code",
   "execution_count": 9,
   "id": "89c25939-6a4b-4de3-a0d4-acef2b9378e9",
   "metadata": {
    "tags": []
   },
   "outputs": [
    {
     "data": {
      "text/plain": [
       "3.3095238095238093"
      ]
     },
     "execution_count": 9,
     "metadata": {},
     "output_type": "execute_result"
    }
   ],
   "source": [
    "chisquare_test_stat"
   ]
  },
  {
   "cell_type": "code",
   "execution_count": 10,
   "id": "fcb6b873-19e4-4458-8181-53a676ecc63a",
   "metadata": {
    "tags": []
   },
   "outputs": [
    {
     "data": {
      "text/plain": [
       "0.769114675518927"
      ]
     },
     "execution_count": 10,
     "metadata": {},
     "output_type": "execute_result"
    }
   ],
   "source": [
    "p_value"
   ]
  },
  {
   "cell_type": "code",
   "execution_count": 11,
   "id": "9785126e-5e0d-47d8-be2b-2e1ad313fb04",
   "metadata": {
    "tags": []
   },
   "outputs": [],
   "source": [
    "## Find critical value "
   ]
  },
  {
   "cell_type": "code",
   "execution_count": 12,
   "id": "563a01ae-5f63-4719-bb0a-fbfb69ad7e40",
   "metadata": {
    "tags": []
   },
   "outputs": [],
   "source": [
    "sig=0.05\n",
    "dof=len(observed_data)-1"
   ]
  },
  {
   "cell_type": "code",
   "execution_count": 13,
   "id": "7986ca45-736c-45df-a2da-0c227fa71bcd",
   "metadata": {
    "tags": []
   },
   "outputs": [],
   "source": [
    "critical_value = stat.chi2.ppf(1-sig , dof)"
   ]
  },
  {
   "cell_type": "code",
   "execution_count": 14,
   "id": "df97c108-833b-47e9-9e60-f944dc510849",
   "metadata": {
    "tags": []
   },
   "outputs": [
    {
     "data": {
      "text/plain": [
       "12.591587243743977"
      ]
     },
     "execution_count": 14,
     "metadata": {},
     "output_type": "execute_result"
    }
   ],
   "source": [
    "critical_value"
   ]
  },
  {
   "cell_type": "code",
   "execution_count": 20,
   "id": "880386ff-f95c-4d43-9982-ddfc9287a777",
   "metadata": {
    "tags": []
   },
   "outputs": [
    {
     "name": "stdout",
     "output_type": "stream",
     "text": [
      "Accept null value hypothesis\n"
     ]
    }
   ],
   "source": [
    "if chisquare_test_stat > critical_value:\n",
    "    print(\"Reject null value hypothesis\")\n",
    "else:\n",
    "    print(\"Accept null value hypothesis\")"
   ]
  },
  {
   "cell_type": "markdown",
   "id": "e836c239-cf06-46cb-bb2e-a8e03f9f52a2",
   "metadata": {
    "tags": []
   },
   "source": [
    "#### What ever carer taker said about students hour of study (expected) and what sample data i took  , \n",
    "#### those dist as actually matching wrt to study hour"
   ]
  },
  {
   "cell_type": "markdown",
   "id": "210e6718-a4ab-4264-90f0-0839bd3785b6",
   "metadata": {
    "tags": []
   },
   "source": [
    "#### Null value hypo is something what care taker said about students and that is what is expected \n",
    "#### As null value hypo is accepted we conclude that what ever the care taker said was correct"
   ]
  },
  {
   "cell_type": "code",
   "execution_count": null,
   "id": "b1c8ad72-acec-4cb0-a930-aa4a26cd900d",
   "metadata": {},
   "outputs": [],
   "source": []
  }
 ],
 "metadata": {
  "kernelspec": {
   "display_name": "Python 3 (ipykernel)",
   "language": "python",
   "name": "python3"
  },
  "language_info": {
   "codemirror_mode": {
    "name": "ipython",
    "version": 3
   },
   "file_extension": ".py",
   "mimetype": "text/x-python",
   "name": "python",
   "nbconvert_exporter": "python",
   "pygments_lexer": "ipython3",
   "version": "3.11.2"
  }
 },
 "nbformat": 4,
 "nbformat_minor": 5
}
