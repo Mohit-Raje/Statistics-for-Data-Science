{
 "cells": [
  {
   "cell_type": "code",
   "execution_count": 1,
   "id": "d1d4961c-fada-4ef2-a4d7-76d5ed647865",
   "metadata": {
    "tags": []
   },
   "outputs": [],
   "source": [
    "w1=[18 , 19 , 22,25,27,28,41,45,51,55]\n",
    "w2=[14 , 15 ,15 ,17 ,18 , 22 , 25 ,25 , 27 ,34]"
   ]
  },
  {
   "cell_type": "code",
   "execution_count": 2,
   "id": "8b8ea755-b129-458e-a6ef-ab87d684a6cc",
   "metadata": {
    "tags": []
   },
   "outputs": [],
   "source": [
    "## Check we come to conclusion whether one worker is better than the other"
   ]
  },
  {
   "cell_type": "code",
   "execution_count": 3,
   "id": "f0814350-17d7-4843-88b9-b9437f1c9a77",
   "metadata": {
    "tags": []
   },
   "outputs": [],
   "source": [
    "## Ftest stats"
   ]
  },
  {
   "cell_type": "code",
   "execution_count": 4,
   "id": "a1e8b5fa-14a3-4859-826f-9ba7aba6a337",
   "metadata": {
    "tags": []
   },
   "outputs": [],
   "source": [
    "import numpy as np\n",
    "\n",
    "f_test=np.var(w1)/np.var(w2)"
   ]
  },
  {
   "cell_type": "code",
   "execution_count": 6,
   "id": "5bf88b5c-1a25-4f90-aeae-acfed4f1f093",
   "metadata": {
    "tags": []
   },
   "outputs": [],
   "source": [
    "dof1=len(w1)-1\n",
    "dof2=len(w2)-1"
   ]
  },
  {
   "cell_type": "code",
   "execution_count": 7,
   "id": "7e2c5bab-d4ef-4a77-8624-49db458b4a2e",
   "metadata": {
    "tags": []
   },
   "outputs": [],
   "source": [
    "import scipy.stats as stat"
   ]
  },
  {
   "cell_type": "code",
   "execution_count": 11,
   "id": "d691e1b9-a858-455a-92e0-736c1b1a9cf5",
   "metadata": {
    "tags": []
   },
   "outputs": [],
   "source": [
    "sig=0.05\n",
    "cv=stat.f.ppf(1-sig , dfn=dof1 , dfd=dof2)"
   ]
  },
  {
   "cell_type": "code",
   "execution_count": 13,
   "id": "e9f2942c-f777-4b89-9f8b-e7fb2cbd45db",
   "metadata": {
    "tags": []
   },
   "outputs": [
    {
     "name": "stdout",
     "output_type": "stream",
     "text": [
      "Reject null hypothesis\n"
     ]
    }
   ],
   "source": [
    "if f_test > cv:\n",
    "    print(\"Reject null hypothesis\")\n",
    "else:\n",
    "    print(\"Accept null hyposthesis\")"
   ]
  },
  {
   "cell_type": "code",
   "execution_count": 14,
   "id": "74395c97-ccad-44cf-8333-bffe159784b9",
   "metadata": {
    "tags": []
   },
   "outputs": [],
   "source": [
    "## One worker will be better than othet"
   ]
  },
  {
   "cell_type": "code",
   "execution_count": null,
   "id": "a8ae47ac-9107-4206-9870-220f77667df6",
   "metadata": {},
   "outputs": [],
   "source": []
  }
 ],
 "metadata": {
  "kernelspec": {
   "display_name": "Python 3 (ipykernel)",
   "language": "python",
   "name": "python3"
  },
  "language_info": {
   "codemirror_mode": {
    "name": "ipython",
    "version": 3
   },
   "file_extension": ".py",
   "mimetype": "text/x-python",
   "name": "python",
   "nbconvert_exporter": "python",
   "pygments_lexer": "ipython3",
   "version": "3.11.2"
  }
 },
 "nbformat": 4,
 "nbformat_minor": 5
}
